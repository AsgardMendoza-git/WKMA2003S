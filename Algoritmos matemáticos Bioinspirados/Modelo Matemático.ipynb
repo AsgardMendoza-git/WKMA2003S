{
  "nbformat": 4,
  "nbformat_minor": 0,
  "metadata": {
    "colab": {
      "provenance": []
    },
    "kernelspec": {
      "name": "python3",
      "display_name": "Python 3"
    },
    "language_info": {
      "name": "python"
    }
  },
  "cells": [
    {
      "cell_type": "code",
      "source": [
        "!pip install pulp\n"
      ],
      "metadata": {
        "colab": {
          "base_uri": "https://localhost:8080/"
        },
        "id": "8z446QHs36l8",
        "outputId": "8689cfd1-b814-4af2-979c-8a60f065a79a"
      },
      "execution_count": null,
      "outputs": [
        {
          "output_type": "stream",
          "name": "stdout",
          "text": [
            "Requirement already satisfied: pulp in /usr/local/lib/python3.10/dist-packages (2.9.0)\n"
          ]
        }
      ]
    },
    {
      "cell_type": "code",
      "execution_count": null,
      "metadata": {
        "colab": {
          "base_uri": "https://localhost:8080/"
        },
        "id": "fQI50J2V22zj",
        "outputId": "b65f6235-1bec-4dc9-900c-0f36c2458502"
      },
      "outputs": [
        {
          "output_type": "stream",
          "name": "stdout",
          "text": [
            "Drive already mounted at /content/gdrive; to attempt to forcibly remount, call drive.mount(\"/content/gdrive\", force_remount=True).\n"
          ]
        }
      ],
      "source": [
        "# Montar Google Drive\n",
        "drive.mount('/content/gdrive')\n"
      ]
    },
    {
      "cell_type": "markdown",
      "source": [
        "## 1"
      ],
      "metadata": {
        "id": "ida39ODP6Sqg"
      }
    },
    {
      "cell_type": "code",
      "source": [
        "# Montar Google Drive\n",
        "from google.colab import drive\n",
        "import pandas as pd\n",
        "from pulp import *\n",
        "import time  # Importar el módulo para medir el tiempo\n",
        "\n",
        "# Montar Google Drive\n",
        "# drive.mount('/content/gdrive')\n",
        "\n",
        "# Cargar el archivo CSV de la matriz de distancias\n",
        "csv_file = '/content/gdrive/MyDrive/DireccionesSP/Matriz_distancias_200Nodos/dist_matrix_seleccion200_1a.csv'\n",
        "df = pd.read_csv(csv_file, index_col=0)\n",
        "\n",
        "# Asegurarse de que los nombres de los nodos sean correctamente leídos como strings\n",
        "df.columns = df.columns.astype(str)\n",
        "df.index = df.index.astype(str)\n",
        "\n",
        "# Verificar que las columnas y los índices coinciden (nombres de nodos)\n",
        "nodos = list(df.columns)\n",
        "\n",
        "# Asegurarnos de que el DataFrame sea cuadrado (mismo número de filas y columnas)\n",
        "assert len(nodos) == len(df.index), \"El DataFrame no es cuadrado.\"\n",
        "\n",
        "# Convertir el DataFrame a un diccionario anidado, asegurándonos de que las claves sean strings\n",
        "dist = df.to_dict(orient=\"index\")\n",
        "\n",
        "# Crear el problema de minimización\n",
        "prob = LpProblem(\"TSP\", LpMinimize)\n",
        "\n",
        "# Variables binarias para las rutas\n",
        "x = LpVariable.dicts('x', [(i, j) for i in nodos for j in nodos], cat='Binary')\n",
        "\n",
        "# Función objetivo: minimizar la distancia total recorrida\n",
        "prob += lpSum(dist[i][j] * x[i, j] for i in nodos for j in nodos if i != j), \"Minimize total distance\"\n",
        "\n",
        "# Restricciones: Cada nodo debe tener exactamente una salida y una entrada\n",
        "for i in nodos:\n",
        "    prob += lpSum(x[i, j] for j in nodos if i != j) == 1, f\"Salida_{i}\"\n",
        "    prob += lpSum(x[j, i] for j in nodos if i != j) == 1, f\"Entrada_{i}\"\n",
        "\n",
        "# Medir el tiempo de resolución\n",
        "start_time = time.time()\n",
        "\n",
        "# Resolver el problema\n",
        "prob.solve(PULP_CBC_CMD(msg=True))\n",
        "\n",
        "end_time = time.time()\n",
        "elapsed_time = end_time - start_time\n",
        "\n",
        "# Mostrar los resultados\n",
        "print(f\"Status: {LpStatus[prob.status]}\")\n",
        "print(f\"Distancia total mínima: {value(prob.objective)}\")\n",
        "print(f\"Tiempo de resolución: {elapsed_time:.2f} segundos\")\n",
        "\n",
        "# Mostrar las rutas seleccionadas\n",
        "#for i in nodos:\n",
        "    #for j in nodos:\n",
        "        #if value(x[i, j]) == 1:\n",
        "            #print(f\"Ruta de {i} a {j}\")\n"
      ],
      "metadata": {
        "colab": {
          "base_uri": "https://localhost:8080/"
        },
        "id": "Ynl83C533oAv",
        "outputId": "1df75d4a-a568-4d7a-d775-dea01aaa0d7d"
      },
      "execution_count": null,
      "outputs": [
        {
          "output_type": "stream",
          "name": "stdout",
          "text": [
            "Status: Optimal\n",
            "Distancia total mínima: 1.143786241359701\n",
            "Tiempo de resolución: 6.78 segundos\n"
          ]
        }
      ]
    },
    {
      "cell_type": "markdown",
      "source": [
        "## 2"
      ],
      "metadata": {
        "id": "_NJttuDz6UlJ"
      }
    },
    {
      "cell_type": "code",
      "source": [
        "# Montar Google Drive\n",
        "from google.colab import drive\n",
        "import pandas as pd\n",
        "from pulp import *\n",
        "import time  # Importar el módulo para medir el tiempo\n",
        "\n",
        "# Montar Google Drive\n",
        "# drive.mount('/content/gdrive')\n",
        "\n",
        "# Cargar el archivo CSV de la matriz de distancias\n",
        "csv_file = '/content/gdrive/MyDrive/DireccionesSP/Matriz_distancias_200Nodos/dist_matrix_seleccion200_2a.csv'\n",
        "df = pd.read_csv(csv_file, index_col=0)\n",
        "\n",
        "# Asegurarse de que los nombres de los nodos sean correctamente leídos como strings\n",
        "df.columns = df.columns.astype(str)\n",
        "df.index = df.index.astype(str)\n",
        "\n",
        "# Verificar que las columnas y los índices coinciden (nombres de nodos)\n",
        "nodos = list(df.columns)\n",
        "\n",
        "# Asegurarnos de que el DataFrame sea cuadrado (mismo número de filas y columnas)\n",
        "assert len(nodos) == len(df.index), \"El DataFrame no es cuadrado.\"\n",
        "\n",
        "# Convertir el DataFrame a un diccionario anidado, asegurándonos de que las claves sean strings\n",
        "dist = df.to_dict(orient=\"index\")\n",
        "\n",
        "# Crear el problema de minimización\n",
        "prob = LpProblem(\"TSP\", LpMinimize)\n",
        "\n",
        "# Variables binarias para las rutas\n",
        "x = LpVariable.dicts('x', [(i, j) for i in nodos for j in nodos], cat='Binary')\n",
        "\n",
        "# Función objetivo: minimizar la distancia total recorrida\n",
        "prob += lpSum(dist[i][j] * x[i, j] for i in nodos for j in nodos if i != j), \"Minimize total distance\"\n",
        "\n",
        "# Restricciones: Cada nodo debe tener exactamente una salida y una entrada\n",
        "for i in nodos:\n",
        "    prob += lpSum(x[i, j] for j in nodos if i != j) == 1, f\"Salida_{i}\"\n",
        "    prob += lpSum(x[j, i] for j in nodos if i != j) == 1, f\"Entrada_{i}\"\n",
        "\n",
        "# Medir el tiempo de resolución\n",
        "start_time = time.time()\n",
        "\n",
        "# Resolver el problema\n",
        "prob.solve(PULP_CBC_CMD(msg=True))\n",
        "\n",
        "end_time = time.time()\n",
        "elapsed_time = end_time - start_time\n",
        "\n",
        "# Mostrar los resultados\n",
        "print(f\"Status: {LpStatus[prob.status]}\")\n",
        "print(f\"Distancia total mínima: {value(prob.objective)}\")\n",
        "print(f\"Tiempo de resolución: {elapsed_time:.2f} segundos\")\n",
        "\n",
        "# Mostrar las rutas seleccionadas\n",
        "#for i in nodos:\n",
        "    #for j in nodos:\n",
        "        #if value(x[i, j]) == 1:\n",
        "            #print(f\"Ruta de {i} a {j}\")\n"
      ],
      "metadata": {
        "colab": {
          "base_uri": "https://localhost:8080/"
        },
        "id": "cL3RoYHO6Vio",
        "outputId": "cfe6acba-1ac2-434f-bebb-d1102effd8ea"
      },
      "execution_count": null,
      "outputs": [
        {
          "output_type": "stream",
          "name": "stdout",
          "text": [
            "Status: Optimal\n",
            "Distancia total mínima: 1.1528586740669005\n",
            "Tiempo de resolución: 4.39 segundos\n"
          ]
        }
      ]
    },
    {
      "cell_type": "markdown",
      "source": [
        "## 3"
      ],
      "metadata": {
        "id": "DLyRIqrs6UiN"
      }
    },
    {
      "cell_type": "code",
      "source": [
        "# Montar Google Drive\n",
        "from google.colab import drive\n",
        "import pandas as pd\n",
        "from pulp import *\n",
        "import time  # Importar el módulo para medir el tiempo\n",
        "\n",
        "# Montar Google Drive\n",
        "# drive.mount('/content/gdrive')\n",
        "\n",
        "# Cargar el archivo CSV de la matriz de distancias\n",
        "csv_file = '/content/gdrive/MyDrive/DireccionesSP/Matriz_distancias_200Nodos/dist_matrix_seleccion200_3a.csv'\n",
        "df = pd.read_csv(csv_file, index_col=0)\n",
        "\n",
        "# Asegurarse de que los nombres de los nodos sean correctamente leídos como strings\n",
        "df.columns = df.columns.astype(str)\n",
        "df.index = df.index.astype(str)\n",
        "\n",
        "# Verificar que las columnas y los índices coinciden (nombres de nodos)\n",
        "nodos = list(df.columns)\n",
        "\n",
        "# Asegurarnos de que el DataFrame sea cuadrado (mismo número de filas y columnas)\n",
        "assert len(nodos) == len(df.index), \"El DataFrame no es cuadrado.\"\n",
        "\n",
        "# Convertir el DataFrame a un diccionario anidado, asegurándonos de que las claves sean strings\n",
        "dist = df.to_dict(orient=\"index\")\n",
        "\n",
        "# Crear el problema de minimización\n",
        "prob = LpProblem(\"TSP\", LpMinimize)\n",
        "\n",
        "# Variables binarias para las rutas\n",
        "x = LpVariable.dicts('x', [(i, j) for i in nodos for j in nodos], cat='Binary')\n",
        "\n",
        "# Función objetivo: minimizar la distancia total recorrida\n",
        "prob += lpSum(dist[i][j] * x[i, j] for i in nodos for j in nodos if i != j), \"Minimize total distance\"\n",
        "\n",
        "# Restricciones: Cada nodo debe tener exactamente una salida y una entrada\n",
        "for i in nodos:\n",
        "    prob += lpSum(x[i, j] for j in nodos if i != j) == 1, f\"Salida_{i}\"\n",
        "    prob += lpSum(x[j, i] for j in nodos if i != j) == 1, f\"Entrada_{i}\"\n",
        "\n",
        "# Medir el tiempo de resolución\n",
        "start_time = time.time()\n",
        "\n",
        "# Resolver el problema\n",
        "prob.solve(PULP_CBC_CMD(msg=True))\n",
        "\n",
        "end_time = time.time()\n",
        "elapsed_time = end_time - start_time\n",
        "\n",
        "# Mostrar los resultados\n",
        "print(f\"Status: {LpStatus[prob.status]}\")\n",
        "print(f\"Distancia total mínima: {value(prob.objective)}\")\n",
        "print(f\"Tiempo de resolución: {elapsed_time:.2f} segundos\")\n",
        "\n",
        "# Mostrar las rutas seleccionadas\n",
        "#for i in nodos:\n",
        "    #for j in nodos:\n",
        "        #if value(x[i, j]) == 1:\n",
        "            #print(f\"Ruta de {i} a {j}\")\n"
      ],
      "metadata": {
        "colab": {
          "base_uri": "https://localhost:8080/"
        },
        "id": "DAqeJ_g86Yvf",
        "outputId": "617ab9bb-2b2a-42d1-a1fd-807bf1837a04"
      },
      "execution_count": null,
      "outputs": [
        {
          "output_type": "stream",
          "name": "stdout",
          "text": [
            "Status: Optimal\n",
            "Distancia total mínima: 1.1404473959153\n",
            "Tiempo de resolución: 2.34 segundos\n"
          ]
        }
      ]
    },
    {
      "cell_type": "markdown",
      "source": [
        "## 4"
      ],
      "metadata": {
        "id": "oauW0h8X6Ue0"
      }
    },
    {
      "cell_type": "code",
      "source": [
        "# Montar Google Drive\n",
        "from google.colab import drive\n",
        "import pandas as pd\n",
        "from pulp import *\n",
        "import time  # Importar el módulo para medir el tiempo\n",
        "\n",
        "# Montar Google Drive\n",
        "# drive.mount('/content/gdrive')\n",
        "\n",
        "# Cargar el archivo CSV de la matriz de distancias\n",
        "csv_file = '/content/gdrive/MyDrive/DireccionesSP/Matriz_distancias_200Nodos/dist_matrix_seleccion200_4a.csv'\n",
        "df = pd.read_csv(csv_file, index_col=0)\n",
        "\n",
        "# Asegurarse de que los nombres de los nodos sean correctamente leídos como strings\n",
        "df.columns = df.columns.astype(str)\n",
        "df.index = df.index.astype(str)\n",
        "\n",
        "# Verificar que las columnas y los índices coinciden (nombres de nodos)\n",
        "nodos = list(df.columns)\n",
        "\n",
        "# Asegurarnos de que el DataFrame sea cuadrado (mismo número de filas y columnas)\n",
        "assert len(nodos) == len(df.index), \"El DataFrame no es cuadrado.\"\n",
        "\n",
        "# Convertir el DataFrame a un diccionario anidado, asegurándonos de que las claves sean strings\n",
        "dist = df.to_dict(orient=\"index\")\n",
        "\n",
        "# Crear el problema de minimización\n",
        "prob = LpProblem(\"TSP\", LpMinimize)\n",
        "\n",
        "# Variables binarias para las rutas\n",
        "x = LpVariable.dicts('x', [(i, j) for i in nodos for j in nodos], cat='Binary')\n",
        "\n",
        "# Función objetivo: minimizar la distancia total recorrida\n",
        "prob += lpSum(dist[i][j] * x[i, j] for i in nodos for j in nodos if i != j), \"Minimize total distance\"\n",
        "\n",
        "# Restricciones: Cada nodo debe tener exactamente una salida y una entrada\n",
        "for i in nodos:\n",
        "    prob += lpSum(x[i, j] for j in nodos if i != j) == 1, f\"Salida_{i}\"\n",
        "    prob += lpSum(x[j, i] for j in nodos if i != j) == 1, f\"Entrada_{i}\"\n",
        "\n",
        "# Medir el tiempo de resolución\n",
        "start_time = time.time()\n",
        "\n",
        "# Resolver el problema\n",
        "prob.solve(PULP_CBC_CMD(msg=True))\n",
        "\n",
        "end_time = time.time()\n",
        "elapsed_time = end_time - start_time\n",
        "\n",
        "# Mostrar los resultados\n",
        "print(f\"Status: {LpStatus[prob.status]}\")\n",
        "print(f\"Distancia total mínima: {value(prob.objective)}\")\n",
        "print(f\"Tiempo de resolución: {elapsed_time:.2f} segundos\")\n",
        "\n",
        "# Mostrar las rutas seleccionadas\n",
        "#for i in nodos:\n",
        "    #for j in nodos:\n",
        "        #if value(x[i, j]) == 1:\n",
        "            #print(f\"Ruta de {i} a {j}\")\n"
      ],
      "metadata": {
        "colab": {
          "base_uri": "https://localhost:8080/"
        },
        "id": "sg1Ez-zp6b4w",
        "outputId": "f67d62ca-12e9-45de-9789-7fd1e91f0ede"
      },
      "execution_count": null,
      "outputs": [
        {
          "output_type": "stream",
          "name": "stdout",
          "text": [
            "Status: Optimal\n",
            "Distancia total mínima: 1.0868717273192001\n",
            "Tiempo de resolución: 2.26 segundos\n"
          ]
        }
      ]
    },
    {
      "cell_type": "markdown",
      "source": [
        "## 5"
      ],
      "metadata": {
        "id": "KSlRNLQN6Uav"
      }
    },
    {
      "cell_type": "code",
      "source": [
        "# Montar Google Drive\n",
        "from google.colab import drive\n",
        "import pandas as pd\n",
        "from pulp import *\n",
        "import time  # Importar el módulo para medir el tiempo\n",
        "\n",
        "# Montar Google Drive\n",
        "# drive.mount('/content/gdrive')\n",
        "\n",
        "# Cargar el archivo CSV de la matriz de distancias\n",
        "csv_file = '/content/gdrive/MyDrive/DireccionesSP/Matriz_distancias_200Nodos/dist_matrix_seleccion200_5a.csv'\n",
        "df = pd.read_csv(csv_file, index_col=0)\n",
        "\n",
        "# Asegurarse de que los nombres de los nodos sean correctamente leídos como strings\n",
        "df.columns = df.columns.astype(str)\n",
        "df.index = df.index.astype(str)\n",
        "\n",
        "# Verificar que las columnas y los índices coinciden (nombres de nodos)\n",
        "nodos = list(df.columns)\n",
        "\n",
        "# Asegurarnos de que el DataFrame sea cuadrado (mismo número de filas y columnas)\n",
        "assert len(nodos) == len(df.index), \"El DataFrame no es cuadrado.\"\n",
        "\n",
        "# Convertir el DataFrame a un diccionario anidado, asegurándonos de que las claves sean strings\n",
        "dist = df.to_dict(orient=\"index\")\n",
        "\n",
        "# Crear el problema de minimización\n",
        "prob = LpProblem(\"TSP\", LpMinimize)\n",
        "\n",
        "# Variables binarias para las rutas\n",
        "x = LpVariable.dicts('x', [(i, j) for i in nodos for j in nodos], cat='Binary')\n",
        "\n",
        "# Función objetivo: minimizar la distancia total recorrida\n",
        "prob += lpSum(dist[i][j] * x[i, j] for i in nodos for j in nodos if i != j), \"Minimize total distance\"\n",
        "\n",
        "# Restricciones: Cada nodo debe tener exactamente una salida y una entrada\n",
        "for i in nodos:\n",
        "    prob += lpSum(x[i, j] for j in nodos if i != j) == 1, f\"Salida_{i}\"\n",
        "    prob += lpSum(x[j, i] for j in nodos if i != j) == 1, f\"Entrada_{i}\"\n",
        "\n",
        "# Medir el tiempo de resolución\n",
        "start_time = time.time()\n",
        "\n",
        "# Resolver el problema\n",
        "prob.solve(PULP_CBC_CMD(msg=True))\n",
        "\n",
        "end_time = time.time()\n",
        "elapsed_time = end_time - start_time\n",
        "\n",
        "# Mostrar los resultados\n",
        "print(f\"Status: {LpStatus[prob.status]}\")\n",
        "print(f\"Distancia total mínima: {value(prob.objective)}\")\n",
        "print(f\"Tiempo de resolución: {elapsed_time:.2f} segundos\")\n",
        "\n",
        "# Mostrar las rutas seleccionadas\n",
        "#for i in nodos:\n",
        "    #for j in nodos:\n",
        "        #if value(x[i, j]) == 1:\n",
        "            #print(f\"Ruta de {i} a {j}\")\n"
      ],
      "metadata": {
        "colab": {
          "base_uri": "https://localhost:8080/"
        },
        "id": "MWL1jnCm6e07",
        "outputId": "aea1d0dc-e526-4f7d-bf61-715f6598418f"
      },
      "execution_count": null,
      "outputs": [
        {
          "output_type": "stream",
          "name": "stdout",
          "text": [
            "Status: Optimal\n",
            "Distancia total mínima: 1.2333129864600003\n",
            "Tiempo de resolución: 3.07 segundos\n"
          ]
        }
      ]
    },
    {
      "cell_type": "markdown",
      "source": [
        "## 6"
      ],
      "metadata": {
        "id": "Xx0NuHQg6UWw"
      }
    },
    {
      "cell_type": "code",
      "source": [
        "# Montar Google Drive\n",
        "from google.colab import drive\n",
        "import pandas as pd\n",
        "from pulp import *\n",
        "import time  # Importar el módulo para medir el tiempo\n",
        "\n",
        "# Montar Google Drive\n",
        "# drive.mount('/content/gdrive')\n",
        "\n",
        "# Cargar el archivo CSV de la matriz de distancias\n",
        "csv_file = '/content/gdrive/MyDrive/DireccionesSP/Matriz_distancias_200Nodos/dist_matrix_seleccion200_6a.csv'\n",
        "df = pd.read_csv(csv_file, index_col=0)\n",
        "\n",
        "# Asegurarse de que los nombres de los nodos sean correctamente leídos como strings\n",
        "df.columns = df.columns.astype(str)\n",
        "df.index = df.index.astype(str)\n",
        "\n",
        "# Verificar que las columnas y los índices coinciden (nombres de nodos)\n",
        "nodos = list(df.columns)\n",
        "\n",
        "# Asegurarnos de que el DataFrame sea cuadrado (mismo número de filas y columnas)\n",
        "assert len(nodos) == len(df.index), \"El DataFrame no es cuadrado.\"\n",
        "\n",
        "# Convertir el DataFrame a un diccionario anidado, asegurándonos de que las claves sean strings\n",
        "dist = df.to_dict(orient=\"index\")\n",
        "\n",
        "# Crear el problema de minimización\n",
        "prob = LpProblem(\"TSP\", LpMinimize)\n",
        "\n",
        "# Variables binarias para las rutas\n",
        "x = LpVariable.dicts('x', [(i, j) for i in nodos for j in nodos], cat='Binary')\n",
        "\n",
        "# Función objetivo: minimizar la distancia total recorrida\n",
        "prob += lpSum(dist[i][j] * x[i, j] for i in nodos for j in nodos if i != j), \"Minimize total distance\"\n",
        "\n",
        "# Restricciones: Cada nodo debe tener exactamente una salida y una entrada\n",
        "for i in nodos:\n",
        "    prob += lpSum(x[i, j] for j in nodos if i != j) == 1, f\"Salida_{i}\"\n",
        "    prob += lpSum(x[j, i] for j in nodos if i != j) == 1, f\"Entrada_{i}\"\n",
        "\n",
        "# Medir el tiempo de resolución\n",
        "start_time = time.time()\n",
        "\n",
        "# Resolver el problema\n",
        "prob.solve(PULP_CBC_CMD(msg=True))\n",
        "\n",
        "end_time = time.time()\n",
        "elapsed_time = end_time - start_time\n",
        "\n",
        "# Mostrar los resultados\n",
        "print(f\"Status: {LpStatus[prob.status]}\")\n",
        "print(f\"Distancia total mínima: {value(prob.objective)}\")\n",
        "print(f\"Tiempo de resolución: {elapsed_time:.2f} segundos\")\n",
        "\n",
        "# Mostrar las rutas seleccionadas\n",
        "#for i in nodos:\n",
        "    #for j in nodos:\n",
        "        #if value(x[i, j]) == 1:\n",
        "            #print(f\"Ruta de {i} a {j}\")\n"
      ],
      "metadata": {
        "colab": {
          "base_uri": "https://localhost:8080/"
        },
        "id": "bYFJ2PNi6iQY",
        "outputId": "1bc7973f-e4f3-4c8e-eb0a-8045bb92cd8a"
      },
      "execution_count": null,
      "outputs": [
        {
          "output_type": "stream",
          "name": "stdout",
          "text": [
            "Status: Optimal\n",
            "Distancia total mínima: 1.184692333599701\n",
            "Tiempo de resolución: 2.27 segundos\n"
          ]
        }
      ]
    },
    {
      "cell_type": "markdown",
      "source": [
        "## 7"
      ],
      "metadata": {
        "id": "L4Creq5b6USD"
      }
    },
    {
      "cell_type": "code",
      "source": [
        "# Montar Google Drive\n",
        "from google.colab import drive\n",
        "import pandas as pd\n",
        "from pulp import *\n",
        "import time  # Importar el módulo para medir el tiempo\n",
        "\n",
        "# Montar Google Drive\n",
        "# drive.mount('/content/gdrive')\n",
        "\n",
        "# Cargar el archivo CSV de la matriz de distancias\n",
        "csv_file = '/content/gdrive/MyDrive/DireccionesSP/Matriz_distancias_200Nodos/dist_matrix_seleccion200_7a.csv'\n",
        "df = pd.read_csv(csv_file, index_col=0)\n",
        "\n",
        "# Asegurarse de que los nombres de los nodos sean correctamente leídos como strings\n",
        "df.columns = df.columns.astype(str)\n",
        "df.index = df.index.astype(str)\n",
        "\n",
        "# Verificar que las columnas y los índices coinciden (nombres de nodos)\n",
        "nodos = list(df.columns)\n",
        "\n",
        "# Asegurarnos de que el DataFrame sea cuadrado (mismo número de filas y columnas)\n",
        "assert len(nodos) == len(df.index), \"El DataFrame no es cuadrado.\"\n",
        "\n",
        "# Convertir el DataFrame a un diccionario anidado, asegurándonos de que las claves sean strings\n",
        "dist = df.to_dict(orient=\"index\")\n",
        "\n",
        "# Crear el problema de minimización\n",
        "prob = LpProblem(\"TSP\", LpMinimize)\n",
        "\n",
        "# Variables binarias para las rutas\n",
        "x = LpVariable.dicts('x', [(i, j) for i in nodos for j in nodos], cat='Binary')\n",
        "\n",
        "# Función objetivo: minimizar la distancia total recorrida\n",
        "prob += lpSum(dist[i][j] * x[i, j] for i in nodos for j in nodos if i != j), \"Minimize total distance\"\n",
        "\n",
        "# Restricciones: Cada nodo debe tener exactamente una salida y una entrada\n",
        "for i in nodos:\n",
        "    prob += lpSum(x[i, j] for j in nodos if i != j) == 1, f\"Salida_{i}\"\n",
        "    prob += lpSum(x[j, i] for j in nodos if i != j) == 1, f\"Entrada_{i}\"\n",
        "\n",
        "# Medir el tiempo de resolución\n",
        "start_time = time.time()\n",
        "\n",
        "# Resolver el problema\n",
        "prob.solve(PULP_CBC_CMD(msg=True))\n",
        "\n",
        "end_time = time.time()\n",
        "elapsed_time = end_time - start_time\n",
        "\n",
        "# Mostrar los resultados\n",
        "print(f\"Status: {LpStatus[prob.status]}\")\n",
        "print(f\"Distancia total mínima: {value(prob.objective)}\")\n",
        "print(f\"Tiempo de resolución: {elapsed_time:.2f} segundos\")\n",
        "\n",
        "# Mostrar las rutas seleccionadas\n",
        "#for i in nodos:\n",
        "    #for j in nodos:\n",
        "        #if value(x[i, j]) == 1:\n",
        "            #print(f\"Ruta de {i} a {j}\")\n"
      ],
      "metadata": {
        "colab": {
          "base_uri": "https://localhost:8080/"
        },
        "id": "VAisqvgV6kj4",
        "outputId": "fc6cd629-5de9-497e-e616-a0487895f6cb"
      },
      "execution_count": null,
      "outputs": [
        {
          "output_type": "stream",
          "name": "stdout",
          "text": [
            "Status: Optimal\n",
            "Distancia total mínima: 1.1880462204201994\n",
            "Tiempo de resolución: 3.96 segundos\n"
          ]
        }
      ]
    },
    {
      "cell_type": "markdown",
      "source": [
        "## 8"
      ],
      "metadata": {
        "id": "wLMI2stt6UMF"
      }
    },
    {
      "cell_type": "code",
      "source": [
        "# Montar Google Drive\n",
        "from google.colab import drive\n",
        "import pandas as pd\n",
        "from pulp import *\n",
        "import time  # Importar el módulo para medir el tiempo\n",
        "\n",
        "# Montar Google Drive\n",
        "# drive.mount('/content/gdrive')\n",
        "\n",
        "# Cargar el archivo CSV de la matriz de distancias\n",
        "csv_file = '/content/gdrive/MyDrive/DireccionesSP/Matriz_distancias_200Nodos/dist_matrix_seleccion200_8a.csv'\n",
        "df = pd.read_csv(csv_file, index_col=0)\n",
        "\n",
        "# Asegurarse de que los nombres de los nodos sean correctamente leídos como strings\n",
        "df.columns = df.columns.astype(str)\n",
        "df.index = df.index.astype(str)\n",
        "\n",
        "# Verificar que las columnas y los índices coinciden (nombres de nodos)\n",
        "nodos = list(df.columns)\n",
        "\n",
        "# Asegurarnos de que el DataFrame sea cuadrado (mismo número de filas y columnas)\n",
        "assert len(nodos) == len(df.index), \"El DataFrame no es cuadrado.\"\n",
        "\n",
        "# Convertir el DataFrame a un diccionario anidado, asegurándonos de que las claves sean strings\n",
        "dist = df.to_dict(orient=\"index\")\n",
        "\n",
        "# Crear el problema de minimización\n",
        "prob = LpProblem(\"TSP\", LpMinimize)\n",
        "\n",
        "# Variables binarias para las rutas\n",
        "x = LpVariable.dicts('x', [(i, j) for i in nodos for j in nodos], cat='Binary')\n",
        "\n",
        "# Función objetivo: minimizar la distancia total recorrida\n",
        "prob += lpSum(dist[i][j] * x[i, j] for i in nodos for j in nodos if i != j), \"Minimize total distance\"\n",
        "\n",
        "# Restricciones: Cada nodo debe tener exactamente una salida y una entrada\n",
        "for i in nodos:\n",
        "    prob += lpSum(x[i, j] for j in nodos if i != j) == 1, f\"Salida_{i}\"\n",
        "    prob += lpSum(x[j, i] for j in nodos if i != j) == 1, f\"Entrada_{i}\"\n",
        "\n",
        "# Medir el tiempo de resolución\n",
        "start_time = time.time()\n",
        "\n",
        "# Resolver el problema\n",
        "prob.solve(PULP_CBC_CMD(msg=True))\n",
        "\n",
        "end_time = time.time()\n",
        "elapsed_time = end_time - start_time\n",
        "\n",
        "# Mostrar los resultados\n",
        "print(f\"Status: {LpStatus[prob.status]}\")\n",
        "print(f\"Distancia total mínima: {value(prob.objective)}\")\n",
        "print(f\"Tiempo de resolución: {elapsed_time:.2f} segundos\")\n",
        "\n",
        "# Mostrar las rutas seleccionadas\n",
        "#for i in nodos:\n",
        "    #for j in nodos:\n",
        "        #if value(x[i, j]) == 1:\n",
        "            #print(f\"Ruta de {i} a {j}\")\n"
      ],
      "metadata": {
        "colab": {
          "base_uri": "https://localhost:8080/"
        },
        "id": "fmV6hgLj6nP5",
        "outputId": "e60c2b67-b426-47f7-fd6a-1f553ddadbe6"
      },
      "execution_count": null,
      "outputs": [
        {
          "output_type": "stream",
          "name": "stdout",
          "text": [
            "Status: Optimal\n",
            "Distancia total mínima: 1.1226757493472002\n",
            "Tiempo de resolución: 2.56 segundos\n"
          ]
        }
      ]
    },
    {
      "cell_type": "markdown",
      "source": [
        "## 9"
      ],
      "metadata": {
        "id": "eSWTUoil6UIt"
      }
    },
    {
      "cell_type": "code",
      "source": [
        "# Montar Google Drive\n",
        "from google.colab import drive\n",
        "import pandas as pd\n",
        "from pulp import *\n",
        "import time  # Importar el módulo para medir el tiempo\n",
        "\n",
        "# Montar Google Drive\n",
        "# drive.mount('/content/gdrive')\n",
        "\n",
        "# Cargar el archivo CSV de la matriz de distancias\n",
        "csv_file = '/content/gdrive/MyDrive/DireccionesSP/Matriz_distancias_200Nodos/dist_matrix_seleccion200_9a.csv'\n",
        "df = pd.read_csv(csv_file, index_col=0)\n",
        "\n",
        "# Asegurarse de que los nombres de los nodos sean correctamente leídos como strings\n",
        "df.columns = df.columns.astype(str)\n",
        "df.index = df.index.astype(str)\n",
        "\n",
        "# Verificar que las columnas y los índices coinciden (nombres de nodos)\n",
        "nodos = list(df.columns)\n",
        "\n",
        "# Asegurarnos de que el DataFrame sea cuadrado (mismo número de filas y columnas)\n",
        "assert len(nodos) == len(df.index), \"El DataFrame no es cuadrado.\"\n",
        "\n",
        "# Convertir el DataFrame a un diccionario anidado, asegurándonos de que las claves sean strings\n",
        "dist = df.to_dict(orient=\"index\")\n",
        "\n",
        "# Crear el problema de minimización\n",
        "prob = LpProblem(\"TSP\", LpMinimize)\n",
        "\n",
        "# Variables binarias para las rutas\n",
        "x = LpVariable.dicts('x', [(i, j) for i in nodos for j in nodos], cat='Binary')\n",
        "\n",
        "# Función objetivo: minimizar la distancia total recorrida\n",
        "prob += lpSum(dist[i][j] * x[i, j] for i in nodos for j in nodos if i != j), \"Minimize total distance\"\n",
        "\n",
        "# Restricciones: Cada nodo debe tener exactamente una salida y una entrada\n",
        "for i in nodos:\n",
        "    prob += lpSum(x[i, j] for j in nodos if i != j) == 1, f\"Salida_{i}\"\n",
        "    prob += lpSum(x[j, i] for j in nodos if i != j) == 1, f\"Entrada_{i}\"\n",
        "\n",
        "# Medir el tiempo de resolución\n",
        "start_time = time.time()\n",
        "\n",
        "# Resolver el problema\n",
        "prob.solve(PULP_CBC_CMD(msg=True))\n",
        "\n",
        "end_time = time.time()\n",
        "elapsed_time = end_time - start_time\n",
        "\n",
        "# Mostrar los resultados\n",
        "print(f\"Status: {LpStatus[prob.status]}\")\n",
        "print(f\"Distancia total mínima: {value(prob.objective)}\")\n",
        "print(f\"Tiempo de resolución: {elapsed_time:.2f} segundos\")\n",
        "\n",
        "# Mostrar las rutas seleccionadas\n",
        "#for i in nodos:\n",
        "    #for j in nodos:\n",
        "        #if value(x[i, j]) == 1:\n",
        "            #print(f\"Ruta de {i} a {j}\")\n"
      ],
      "metadata": {
        "colab": {
          "base_uri": "https://localhost:8080/"
        },
        "id": "sNZ-lfdo6p4R",
        "outputId": "154b5401-599d-414d-8e18-b6f130b6cd72"
      },
      "execution_count": null,
      "outputs": [
        {
          "output_type": "stream",
          "name": "stdout",
          "text": [
            "Status: Optimal\n",
            "Distancia total mínima: 1.1628426033074013\n",
            "Tiempo de resolución: 2.36 segundos\n"
          ]
        }
      ]
    },
    {
      "cell_type": "markdown",
      "source": [
        "## 10"
      ],
      "metadata": {
        "id": "OlT-HZ3U6UDg"
      }
    },
    {
      "cell_type": "code",
      "source": [
        "# Montar Google Drive\n",
        "from google.colab import drive\n",
        "import pandas as pd\n",
        "from pulp import *\n",
        "import time  # Importar el módulo para medir el tiempo\n",
        "\n",
        "# Montar Google Drive\n",
        "# drive.mount('/content/gdrive')\n",
        "\n",
        "# Cargar el archivo CSV de la matriz de distancias\n",
        "csv_file = '/content/gdrive/MyDrive/DireccionesSP/Matriz_distancias_200Nodos/dist_matrix_seleccion200_10a.csv'\n",
        "df = pd.read_csv(csv_file, index_col=0)\n",
        "\n",
        "# Asegurarse de que los nombres de los nodos sean correctamente leídos como strings\n",
        "df.columns = df.columns.astype(str)\n",
        "df.index = df.index.astype(str)\n",
        "\n",
        "# Verificar que las columnas y los índices coinciden (nombres de nodos)\n",
        "nodos = list(df.columns)\n",
        "\n",
        "# Asegurarnos de que el DataFrame sea cuadrado (mismo número de filas y columnas)\n",
        "assert len(nodos) == len(df.index), \"El DataFrame no es cuadrado.\"\n",
        "\n",
        "# Convertir el DataFrame a un diccionario anidado, asegurándonos de que las claves sean strings\n",
        "dist = df.to_dict(orient=\"index\")\n",
        "\n",
        "# Crear el problema de minimización\n",
        "prob = LpProblem(\"TSP\", LpMinimize)\n",
        "\n",
        "# Variables binarias para las rutas\n",
        "x = LpVariable.dicts('x', [(i, j) for i in nodos for j in nodos], cat='Binary')\n",
        "\n",
        "# Función objetivo: minimizar la distancia total recorrida\n",
        "prob += lpSum(dist[i][j] * x[i, j] for i in nodos for j in nodos if i != j), \"Minimize total distance\"\n",
        "\n",
        "# Restricciones: Cada nodo debe tener exactamente una salida y una entrada\n",
        "for i in nodos:\n",
        "    prob += lpSum(x[i, j] for j in nodos if i != j) == 1, f\"Salida_{i}\"\n",
        "    prob += lpSum(x[j, i] for j in nodos if i != j) == 1, f\"Entrada_{i}\"\n",
        "\n",
        "# Medir el tiempo de resolución\n",
        "start_time = time.time()\n",
        "\n",
        "# Resolver el problema\n",
        "prob.solve(PULP_CBC_CMD(msg=True))\n",
        "\n",
        "end_time = time.time()\n",
        "elapsed_time = end_time - start_time\n",
        "\n",
        "# Mostrar los resultados\n",
        "print(f\"Status: {LpStatus[prob.status]}\")\n",
        "print(f\"Distancia total mínima: {value(prob.objective)}\")\n",
        "print(f\"Tiempo de resolución: {elapsed_time:.2f} segundos\")\n",
        "\n",
        "# Mostrar las rutas seleccionadas\n",
        "#for i in nodos:\n",
        "    #for j in nodos:\n",
        "        #if value(x[i, j]) == 1:\n",
        "            #print(f\"Ruta de {i} a {j}\")\n"
      ],
      "metadata": {
        "colab": {
          "base_uri": "https://localhost:8080/"
        },
        "id": "2YRSdu186sU5",
        "outputId": "3f76c854-f163-4b2c-9634-548b9b8764c8"
      },
      "execution_count": null,
      "outputs": [
        {
          "output_type": "stream",
          "name": "stdout",
          "text": [
            "Status: Optimal\n",
            "Distancia total mínima: 1.113248066948\n",
            "Tiempo de resolución: 2.27 segundos\n"
          ]
        }
      ]
    }
  ]
}