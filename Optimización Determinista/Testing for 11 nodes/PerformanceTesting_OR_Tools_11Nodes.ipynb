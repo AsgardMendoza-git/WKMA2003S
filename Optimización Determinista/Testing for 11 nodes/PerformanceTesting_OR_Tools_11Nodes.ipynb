{
  "nbformat": 4,
  "nbformat_minor": 0,
  "metadata": {
    "colab": {
      "provenance": []
    },
    "kernelspec": {
      "name": "python3",
      "display_name": "Python 3"
    },
    "language_info": {
      "name": "python"
    }
  },
  "cells": [
    {
      "cell_type": "code",
      "source": [
        "pip install ortools"
      ],
      "metadata": {
        "colab": {
          "base_uri": "https://localhost:8080/"
        },
        "id": "amNJkKGO1sV-",
        "outputId": "4f7d3070-e51f-4a95-8d8f-f26a4d075e4c"
      },
      "execution_count": 2,
      "outputs": [
        {
          "output_type": "stream",
          "name": "stdout",
          "text": [
            "Collecting ortools\n",
            "  Downloading ortools-9.11.4210-cp311-cp311-manylinux_2_17_x86_64.manylinux2014_x86_64.whl.metadata (3.0 kB)\n",
            "Collecting absl-py>=2.0.0 (from ortools)\n",
            "  Downloading absl_py-2.1.0-py3-none-any.whl.metadata (2.3 kB)\n",
            "Requirement already satisfied: numpy>=1.13.3 in /usr/local/lib/python3.11/dist-packages (from ortools) (1.26.4)\n",
            "Requirement already satisfied: pandas>=2.0.0 in /usr/local/lib/python3.11/dist-packages (from ortools) (2.2.2)\n",
            "Collecting protobuf<5.27,>=5.26.1 (from ortools)\n",
            "  Downloading protobuf-5.26.1-cp37-abi3-manylinux2014_x86_64.whl.metadata (592 bytes)\n",
            "Requirement already satisfied: immutabledict>=3.0.0 in /usr/local/lib/python3.11/dist-packages (from ortools) (4.2.1)\n",
            "Requirement already satisfied: python-dateutil>=2.8.2 in /usr/local/lib/python3.11/dist-packages (from pandas>=2.0.0->ortools) (2.8.2)\n",
            "Requirement already satisfied: pytz>=2020.1 in /usr/local/lib/python3.11/dist-packages (from pandas>=2.0.0->ortools) (2025.1)\n",
            "Requirement already satisfied: tzdata>=2022.7 in /usr/local/lib/python3.11/dist-packages (from pandas>=2.0.0->ortools) (2025.1)\n",
            "Requirement already satisfied: six>=1.5 in /usr/local/lib/python3.11/dist-packages (from python-dateutil>=2.8.2->pandas>=2.0.0->ortools) (1.17.0)\n",
            "Downloading ortools-9.11.4210-cp311-cp311-manylinux_2_17_x86_64.manylinux2014_x86_64.whl (28.1 MB)\n",
            "\u001b[2K   \u001b[90m━━━━━━━━━━━━━━━━━━━━━━━━━━━━━━━━━━━━━━━━\u001b[0m \u001b[32m28.1/28.1 MB\u001b[0m \u001b[31m27.1 MB/s\u001b[0m eta \u001b[36m0:00:00\u001b[0m\n",
            "\u001b[?25hDownloading absl_py-2.1.0-py3-none-any.whl (133 kB)\n",
            "\u001b[2K   \u001b[90m━━━━━━━━━━━━━━━━━━━━━━━━━━━━━━━━━━━━━━━━\u001b[0m \u001b[32m133.7/133.7 kB\u001b[0m \u001b[31m11.4 MB/s\u001b[0m eta \u001b[36m0:00:00\u001b[0m\n",
            "\u001b[?25hDownloading protobuf-5.26.1-cp37-abi3-manylinux2014_x86_64.whl (302 kB)\n",
            "\u001b[2K   \u001b[90m━━━━━━━━━━━━━━━━━━━━━━━━━━━━━━━━━━━━━━━━\u001b[0m \u001b[32m302.8/302.8 kB\u001b[0m \u001b[31m19.2 MB/s\u001b[0m eta \u001b[36m0:00:00\u001b[0m\n",
            "\u001b[?25hInstalling collected packages: protobuf, absl-py, ortools\n",
            "  Attempting uninstall: protobuf\n",
            "    Found existing installation: protobuf 4.25.6\n",
            "    Uninstalling protobuf-4.25.6:\n",
            "      Successfully uninstalled protobuf-4.25.6\n",
            "  Attempting uninstall: absl-py\n",
            "    Found existing installation: absl-py 1.4.0\n",
            "    Uninstalling absl-py-1.4.0:\n",
            "      Successfully uninstalled absl-py-1.4.0\n",
            "Successfully installed absl-py-2.1.0 ortools-9.11.4210 protobuf-5.26.1\n"
          ]
        }
      ]
    },
    {
      "cell_type": "code",
      "source": [
        "import random\n",
        "import csv\n",
        "\n",
        "def generate_matrix(length, min_value, max_value, seed):\n",
        "    random.seed(seed)\n",
        "    matrix = []\n",
        "    for i in range(length):\n",
        "        row = []\n",
        "        for j in range(length):\n",
        "            if i == j:\n",
        "                row.append(0)\n",
        "            else:\n",
        "                row.append(random.randint(min_value, max_value))\n",
        "        matrix.append(row)\n",
        "    return matrix\n",
        "\n",
        "def export_matrix_to_csv(matrix, filename):\n",
        "    # Create a copy of the matrix with diagonal values set to 9999\n",
        "    matrix_with_9999 = []\n",
        "    for i in range(len(matrix)):\n",
        "        row = []\n",
        "        for j in range(len(matrix[i])):\n",
        "            if i == j:\n",
        "                row.append(9999)\n",
        "            else:\n",
        "                row.append(matrix[i][j])\n",
        "        matrix_with_9999.append(row)\n",
        "\n",
        "    # Write the copied matrix to a CSV file\n",
        "    with open(filename, mode='w', newline='') as file:\n",
        "        writer = csv.writer(file)\n",
        "        writer.writerows(matrix_with_9999)\n",
        "    print(f\"Matrix has been exported to {filename}\")\n",
        "\n",
        "# User input\n",
        "length = 11\n",
        "min_value = 100\n",
        "max_value = 999\n",
        "j= 0\n",
        "sd=42\n",
        "matrices=[]\n",
        "while j < 4:\n",
        "    filename = input(\"Enter the filename (with .csv extension): \")\n",
        "\n",
        "    # Generate the matrix\n",
        "    matrix = generate_matrix(length, min_value, max_value, seed=sd)\n",
        "    print(\"Random Square Matrix with Zero Diagonal:\")\n",
        "    for row in matrix:\n",
        "        print(row)\n",
        "    matrices.append(matrix)\n",
        "\n",
        "    # Export the matrix to a CSV file with diagonal values set to 9999\n",
        "    export_matrix_to_csv(matrix, filename)\n",
        "    sd+=1\n",
        "    j+=1"
      ],
      "metadata": {
        "colab": {
          "base_uri": "https://localhost:8080/"
        },
        "id": "Xhoc5R18vEIs",
        "outputId": "b3758906-a92a-4df7-e162-34d43aca1e46"
      },
      "execution_count": 3,
      "outputs": [
        {
          "output_type": "stream",
          "name": "stdout",
          "text": [
            "Enter the filename (with .csv extension): Matrix11-2.csv\n",
            "Random Square Matrix with Zero Diagonal:\n",
            "[0, 754, 214, 125, 859, 381, 350, 328, 242, 854, 204]\n",
            "[792, 0, 858, 658, 189, 704, 532, 132, 130, 195, 323]\n",
            "[338, 617, 0, 716, 127, 674, 303, 833, 765, 818, 658]\n",
            "[529, 325, 559, 0, 703, 384, 928, 990, 106, 877, 925]\n",
            "[263, 814, 532, 448, 0, 384, 259, 320, 881, 444, 204]\n",
            "[194, 489, 199, 467, 967, 0, 452, 718, 370, 926, 144]\n",
            "[847, 570, 649, 227, 487, 180, 0, 665, 400, 949, 743]\n",
            "[733, 982, 470, 691, 296, 821, 171, 0, 146, 777, 333]\n",
            "[891, 396, 181, 975, 338, 987, 203, 489, 0, 384, 564]\n",
            "[750, 954, 473, 266, 479, 463, 314, 786, 373, 0, 818]\n",
            "[799, 763, 173, 723, 750, 275, 646, 846, 350, 267, 0]\n",
            "Matrix has been exported to Matrix11-2.csv\n",
            "Enter the filename (with .csv extension): Matrix11-3.csv\n",
            "Random Square Matrix with Zero Diagonal:\n",
            "[0, 139, 392, 812, 880, 247, 573, 478, 787, 815, 911]\n",
            "[198, 0, 564, 713, 610, 723, 119, 626, 542, 690, 481]\n",
            "[739, 972, 0, 660, 873, 544, 503, 280, 159, 971, 209]\n",
            "[939, 227, 484, 0, 257, 198, 264, 624, 954, 607, 231]\n",
            "[890, 496, 711, 618, 0, 378, 688, 286, 485, 165, 150]\n",
            "[693, 162, 291, 162, 959, 0, 269, 403, 381, 178, 634]\n",
            "[738, 205, 976, 933, 698, 769, 0, 765, 795, 162, 196]\n",
            "[965, 737, 568, 905, 762, 840, 439, 0, 438, 641, 780]\n",
            "[817, 549, 270, 229, 968, 182, 899, 427, 0, 151, 997]\n",
            "[705, 374, 476, 845, 290, 788, 718, 172, 665, 0, 778]\n",
            "[216, 404, 606, 897, 846, 470, 832, 544, 142, 584, 0]\n",
            "Matrix has been exported to Matrix11-3.csv\n",
            "Enter the filename (with .csv extension): Matrix11-4.csv\n",
            "Random Square Matrix with Zero Diagonal:\n",
            "[0, 518, 632, 654, 818, 982, 219, 280, 488, 330, 396]\n",
            "[129, 0, 330, 219, 682, 109, 202, 260, 893, 626, 805]\n",
            "[410, 810, 0, 749, 487, 705, 514, 884, 807, 786, 433]\n",
            "[466, 175, 446, 0, 961, 389, 732, 262, 214, 623, 171]\n",
            "[702, 196, 376, 422, 0, 210, 740, 941, 396, 135, 452]\n",
            "[495, 198, 588, 587, 295, 0, 293, 233, 364, 865, 353]\n",
            "[895, 150, 144, 789, 936, 796, 0, 546, 826, 138, 856]\n",
            "[830, 811, 854, 964, 769, 930, 436, 0, 478, 950, 582]\n",
            "[745, 564, 704, 921, 653, 254, 338, 595, 0, 566, 913]\n",
            "[854, 800, 454, 731, 939, 959, 855, 144, 384, 0, 261]\n",
            "[109, 328, 114, 693, 871, 718, 762, 669, 656, 388, 0]\n",
            "Matrix has been exported to Matrix11-4.csv\n",
            "Enter the filename (with .csv extension): Matrix11-5.csv\n",
            "Random Square Matrix with Zero Diagonal:\n",
            "[0, 378, 527, 599, 363, 183, 410, 446, 122, 174, 595]\n",
            "[111, 0, 217, 390, 927, 220, 418, 975, 861, 764, 136]\n",
            "[739, 168, 0, 238, 378, 914, 854, 257, 316, 968, 878]\n",
            "[834, 538, 176, 0, 727, 517, 246, 817, 158, 132, 276]\n",
            "[428, 357, 465, 893, 0, 842, 427, 196, 521, 191, 121]\n",
            "[869, 436, 424, 902, 496, 0, 815, 997, 863, 643, 776]\n",
            "[649, 988, 747, 849, 735, 929, 0, 819, 758, 360, 707]\n",
            "[779, 161, 604, 482, 314, 459, 259, 0, 741, 907, 117]\n",
            "[355, 611, 828, 738, 534, 400, 314, 524, 0, 494, 955]\n",
            "[489, 246, 698, 566, 667, 188, 673, 493, 163, 0, 627]\n",
            "[727, 129, 739, 979, 656, 774, 745, 633, 890, 395, 0]\n",
            "Matrix has been exported to Matrix11-5.csv\n"
          ]
        }
      ]
    },
    {
      "cell_type": "markdown",
      "source": [
        "#Primer caso 11 nodos"
      ],
      "metadata": {
        "id": "plEh2Fhe24vc"
      }
    },
    {
      "cell_type": "code",
      "source": [
        "%%time\n",
        "\n",
        "\"\"\"Capacited Vehicles Routing Problem (CVRP).\"\"\"\n",
        "import psutil\n",
        "from ortools.constraint_solver import routing_enums_pb2\n",
        "from ortools.constraint_solver import pywrapcp\n",
        "\n",
        "print('RAM usage:', psutil.Process().memory_info().rss / 1024 ** 2, 'MB')\n",
        "\n",
        "\n",
        "def create_data_model():\n",
        "    \"\"\"Stores the data for the problem.\"\"\"\n",
        "    data = {}\n",
        "    data[\"distance_matrix\"] = [\n",
        "        # fmt: off\n",
        "      [0,808,654,275,134,357,545,236,123,484,645],\n",
        "      [808,0,156,724,752,860,960,870,849,1036,1207],\n",
        "      [654,156,0,571,596,710,854,731,701,889,1063],\n",
        "      [275,724,571,0,141,151,796,503,396,331,511],\n",
        "      [134,752,596,141,0,242,663,364,255,396,570],\n",
        "      [357,860,710,151,242,0,900,593,478,181,360],\n",
        "      [545,960,854,796,663,900,0,313,429,1023,1171],\n",
        "      [236,870,731,503,364,593,313,0,116,710,859],\n",
        "      [123,849,701,396,255,478,429,116,0,595,746],\n",
        "      [484,1036,889,331,396,181,1023,710,595,0,179],\n",
        "      [645,1207,1063,511,570,360,1171,859,746,179,0],\n",
        "        # fmt: on\n",
        "    ]\n",
        "    data[\"demands\"] = [0,40,56,64,11,92,38,53,64,5,75]\n",
        "    data[\"vehicle_capacities\"] = [100,100,100,100,100,100]\n",
        "    data[\"num_vehicles\"] = 6\n",
        "    data[\"depot\"] = 0\n",
        "    return data\n",
        "\n",
        "\n",
        "def print_solution(data, manager, routing, solution):\n",
        "    \"\"\"Prints solution on console.\"\"\"\n",
        "    print(f\"SOLUTION FOUND...\\n\\n\\n\")\n",
        "    total_distance = 0\n",
        "    total_load = 0\n",
        "    capacity= data[\"vehicle_capacities\"][0]\n",
        "    for vehicle_id in range(data[\"num_vehicles\"]):\n",
        "        index = routing.Start(vehicle_id)\n",
        "        plan_output = f\"Route for vehicle {vehicle_id}:\\n\"\n",
        "        route_distance = 0\n",
        "        route_load = 0\n",
        "        while not routing.IsEnd(index):\n",
        "            node_index = manager.IndexToNode(index)\n",
        "            route_load += data[\"demands\"][node_index]\n",
        "            plan_output += f\" {node_index} Remaining({route_load}) -> \"\n",
        "            previous_index = index\n",
        "            index = solution.Value(routing.NextVar(index))\n",
        "            route_distance += routing.GetArcCostForVehicle(\n",
        "                previous_index, index, vehicle_id\n",
        "            )\n",
        "        plan_output += f\" {manager.IndexToNode(index)} Remaining({route_load})\\n\"\n",
        "        plan_output += f\"Time of the route: {route_distance/100} minutes\\n\"\n",
        "        plan_output += f\"Load of the route: {route_load/capacity}\\n\"\n",
        "        print(plan_output)\n",
        "        total_distance += route_distance\n",
        "        total_load += route_load\n",
        "    print(f\"Objective: {solution.ObjectiveValue()/100+total_load/capacity*30} minutes in total.\")\n",
        "    print(f\"Total time of all routes: {total_distance/100} minutes\")\n",
        "    print(f\"Total load of all routes: {total_load/capacity}\")\n",
        "    print(f\"Total time spent loading and unloading: {total_load/capacity*30} minutes\")\n",
        "\n",
        "def main():\n",
        "    \"\"\"Solve the CVRP problem.\"\"\"\n",
        "    # Instantiate the data problem.\n",
        "    data = create_data_model()\n",
        "\n",
        "    # Create the routing index manager.\n",
        "    manager = pywrapcp.RoutingIndexManager(\n",
        "        len(data[\"distance_matrix\"]), data[\"num_vehicles\"], data[\"depot\"]\n",
        "    )\n",
        "\n",
        "    # Create Routing Model.\n",
        "    routing = pywrapcp.RoutingModel(manager)\n",
        "\n",
        "    # Create and register a transit callback.\n",
        "    def distance_callback(from_index, to_index):\n",
        "        \"\"\"Returns the distance between the two nodes.\"\"\"\n",
        "        # Convert from routing variable Index to distance matrix NodeIndex.\n",
        "        from_node = manager.IndexToNode(from_index)\n",
        "        to_node = manager.IndexToNode(to_index)\n",
        "        return data[\"distance_matrix\"][from_node][to_node]\n",
        "\n",
        "    transit_callback_index = routing.RegisterTransitCallback(distance_callback)\n",
        "\n",
        "    # Define cost of each arc.\n",
        "    routing.SetArcCostEvaluatorOfAllVehicles(transit_callback_index)\n",
        "\n",
        "    # Add Capacity constraint.\n",
        "    def demand_callback(from_index):\n",
        "        \"\"\"Returns the demand of the node.\"\"\"\n",
        "        # Convert from routing variable Index to demands NodeIndex.\n",
        "        from_node = manager.IndexToNode(from_index)\n",
        "        return data[\"demands\"][from_node]\n",
        "\n",
        "    demand_callback_index = routing.RegisterUnaryTransitCallback(demand_callback)\n",
        "    routing.AddDimensionWithVehicleCapacity(\n",
        "        demand_callback_index,\n",
        "        0,  # null capacity slack\n",
        "        data[\"vehicle_capacities\"],  # vehicle maximum capacities\n",
        "        True,  # start cumul to zero\n",
        "        \"Capacity\",\n",
        "    )\n",
        "\n",
        "    # Setting first solution heuristic.\n",
        "    search_parameters = pywrapcp.DefaultRoutingSearchParameters()\n",
        "    search_parameters.first_solution_strategy = (\n",
        "        routing_enums_pb2.FirstSolutionStrategy.PATH_CHEAPEST_ARC\n",
        "    )\n",
        "    search_parameters.local_search_metaheuristic = (\n",
        "        routing_enums_pb2.LocalSearchMetaheuristic.GUIDED_LOCAL_SEARCH\n",
        "    )\n",
        "    #Se utiliza en primera instancia una heurística , que comienza por un nodo inicial que por consiguiente busca otro nodo , haciendo una ruta de la manera más económica o más barata, y luego\n",
        "    #extiende a otro nodo , extendiendo la ruta con la misma lógica\n",
        "    #Asi mismo se utiliza una metaheurística para mejorar la solución inicial , usamos guided local search es un proceso iterativo que busca mejores soluciones  a  la inicial y se continua el proceso hasta no mejorar la situación actual\n",
        "    #Es parecio a que local search  a diferencia es que en guided local search para poder salir de óptimos locales , se agregan penalizaciones, lo que lo hace más efectivo.\n",
        "    search_parameters.time_limit.FromSeconds(1)\n",
        "\n",
        "    # Solve the problem.\n",
        "    solution = routing.SolveWithParameters(search_parameters)\n",
        "\n",
        "    # Print solution on console.\n",
        "    if solution:\n",
        "        print_solution(data, manager, routing, solution)\n",
        "\n",
        "\n",
        "if __name__ == \"__main__\":\n",
        "    main()"
      ],
      "metadata": {
        "id": "VL5SdlxJnLja",
        "colab": {
          "base_uri": "https://localhost:8080/"
        },
        "outputId": "d9732c8e-bd92-40da-d18c-d86ad4f7ec42"
      },
      "execution_count": 4,
      "outputs": [
        {
          "output_type": "stream",
          "name": "stdout",
          "text": [
            "RAM usage: 146.46484375 MB\n",
            "SOLUTION FOUND...\n",
            "\n",
            "\n",
            "\n",
            "Route for vehicle 0:\n",
            " 0 Remaining(0) ->  2 Remaining(56) ->  1 Remaining(96) ->  0 Remaining(96)\n",
            "Time of the route: 16.18 minutes\n",
            "Load of the route: 0.96\n",
            "\n",
            "Route for vehicle 1:\n",
            " 0 Remaining(0) ->  9 Remaining(5) ->  10 Remaining(80) ->  0 Remaining(80)\n",
            "Time of the route: 13.08 minutes\n",
            "Load of the route: 0.8\n",
            "\n",
            "Route for vehicle 2:\n",
            " 0 Remaining(0) ->  5 Remaining(92) ->  0 Remaining(92)\n",
            "Time of the route: 7.14 minutes\n",
            "Load of the route: 0.92\n",
            "\n",
            "Route for vehicle 3:\n",
            " 0 Remaining(0) ->  4 Remaining(11) ->  3 Remaining(75) ->  0 Remaining(75)\n",
            "Time of the route: 5.5 minutes\n",
            "Load of the route: 0.75\n",
            "\n",
            "Route for vehicle 4:\n",
            " 0 Remaining(0) ->  7 Remaining(53) ->  6 Remaining(91) ->  0 Remaining(91)\n",
            "Time of the route: 10.94 minutes\n",
            "Load of the route: 0.91\n",
            "\n",
            "Route for vehicle 5:\n",
            " 0 Remaining(0) ->  8 Remaining(64) ->  0 Remaining(64)\n",
            "Time of the route: 2.46 minutes\n",
            "Load of the route: 0.64\n",
            "\n",
            "Objective: 204.7 minutes in total.\n",
            "Total time of all routes: 55.3 minutes\n",
            "Total load of all routes: 4.98\n",
            "Total time spent loading and unloading: 149.4 minutes\n",
            "CPU times: user 949 ms, sys: 5.49 ms, total: 954 ms\n",
            "Wall time: 1.09 s\n"
          ]
        }
      ]
    },
    {
      "cell_type": "markdown",
      "source": [
        "#Segundo caso 11 nodos"
      ],
      "metadata": {
        "id": "ZKzUJZoI3Cso"
      }
    },
    {
      "cell_type": "code",
      "source": [
        "%%time\n",
        "print('RAM usage:', psutil.Process().memory_info().rss / 1024 ** 2, 'MB')\n",
        "\n",
        "def create_data_model():\n",
        "    \"\"\"Stores the data for the problem.\"\"\"\n",
        "    data = {}\n",
        "    data[\"distance_matrix\"]= [\n",
        "        [0, 754, 214, 125, 859, 381, 350, 328, 242, 854, 204],\n",
        "        [792, 0, 858, 658, 189, 704, 532, 132, 130, 195, 323],\n",
        "        [338, 617, 0, 716, 127, 674, 303, 833, 765, 818, 658],\n",
        "        [529, 325, 559, 0, 703, 384, 928, 990, 106, 877, 925],\n",
        "        [263, 814, 532, 448, 0, 384, 259, 320, 881, 444, 204],\n",
        "        [194, 489, 199, 467, 967, 0, 452, 718, 370, 926, 144],\n",
        "        [847, 570, 649, 227, 487, 180, 0, 665, 400, 949, 743],\n",
        "        [733, 982, 470, 691, 296, 821, 171, 0, 146, 777, 333],\n",
        "        [891, 396, 181, 975, 338, 987, 203, 489, 0, 384, 564],\n",
        "        [750, 954, 473, 266, 479, 463, 314, 786, 373, 0, 818],\n",
        "        [799, 763, 173, 723, 750, 275, 646, 846, 350, 267, 0],\n",
        "    ]\n",
        "    data[\"demands\"] = [0,52,52,11,54,23,31,10,30,62,66]\n",
        "    data[\"vehicle_capacities\"] = [100,100,100,100,100]\n",
        "    data[\"num_vehicles\"] = 5\n",
        "    data[\"depot\"] = 0\n",
        "    return data\n",
        "\n",
        "def print_solution(data, manager, routing, solution):\n",
        "    \"\"\"Prints solution on console.\"\"\"\n",
        "    print(f\"SOLUTION FOUND...\\n\\n\\n\")\n",
        "    total_distance = 0\n",
        "    total_load = 0\n",
        "    capacity= data[\"vehicle_capacities\"][0]\n",
        "    for vehicle_id in range(data[\"num_vehicles\"]):\n",
        "        index = routing.Start(vehicle_id)\n",
        "        plan_output = f\"Route for vehicle {vehicle_id}:\\n\"\n",
        "        route_distance = 0\n",
        "        route_load = 0\n",
        "        while not routing.IsEnd(index):\n",
        "            node_index = manager.IndexToNode(index)\n",
        "            route_load += data[\"demands\"][node_index]\n",
        "            plan_output += f\" {node_index} Remaining({route_load}) -> \"\n",
        "            previous_index = index\n",
        "            index = solution.Value(routing.NextVar(index))\n",
        "            route_distance += routing.GetArcCostForVehicle(\n",
        "                previous_index, index, vehicle_id\n",
        "            )\n",
        "        plan_output += f\" {manager.IndexToNode(index)} Remaining({route_load})\\n\"\n",
        "        plan_output += f\"Time of the route: {route_distance} minutes\\n\"\n",
        "        plan_output += f\"Load of the route: {route_load/capacity}\\n\"\n",
        "        print(plan_output)\n",
        "        total_distance += route_distance\n",
        "        total_load += route_load\n",
        "    print(f\"Objective: {solution.ObjectiveValue()+total_load/capacity*30} minutes in total.\")\n",
        "    print(f\"Total time of all routes: {total_distance} minutes\")\n",
        "    print(f\"Total load of all routes: {total_load/capacity}\")\n",
        "    print(f\"Total time spent loading and unloading: {total_load/capacity*30} minutes\")\n",
        "if __name__ == \"__main__\":\n",
        "    main()"
      ],
      "metadata": {
        "colab": {
          "base_uri": "https://localhost:8080/"
        },
        "id": "9xLi4l9gJNvM",
        "outputId": "15ed60e8-0487-4ad7-d785-a4fe11c91ce7"
      },
      "execution_count": 5,
      "outputs": [
        {
          "output_type": "stream",
          "name": "stdout",
          "text": [
            "RAM usage: 149.41796875 MB\n",
            "SOLUTION FOUND...\n",
            "\n",
            "\n",
            "\n",
            "Route for vehicle 0:\n",
            " 0 Remaining(0) ->  8 Remaining(30) ->  9 Remaining(92) ->  0 Remaining(92)\n",
            "Time of the route: 1376 minutes\n",
            "Load of the route: 0.92\n",
            "\n",
            "Route for vehicle 1:\n",
            " 0 Remaining(0) ->  3 Remaining(11) ->  1 Remaining(63) ->  7 Remaining(73) ->  0 Remaining(73)\n",
            "Time of the route: 1315 minutes\n",
            "Load of the route: 0.73\n",
            "\n",
            "Route for vehicle 2:\n",
            " 0 Remaining(0) ->  6 Remaining(31) ->  4 Remaining(85) ->  0 Remaining(85)\n",
            "Time of the route: 1100 minutes\n",
            "Load of the route: 0.85\n",
            "\n",
            "Route for vehicle 3:\n",
            " 0 Remaining(0) ->  10 Remaining(66) ->  5 Remaining(89) ->  0 Remaining(89)\n",
            "Time of the route: 673 minutes\n",
            "Load of the route: 0.89\n",
            "\n",
            "Route for vehicle 4:\n",
            " 0 Remaining(0) ->  2 Remaining(52) ->  0 Remaining(52)\n",
            "Time of the route: 552 minutes\n",
            "Load of the route: 0.52\n",
            "\n",
            "Objective: 5133.3 minutes in total.\n",
            "Total time of all routes: 5016 minutes\n",
            "Total load of all routes: 3.91\n",
            "Total time spent loading and unloading: 117.30000000000001 minutes\n",
            "CPU times: user 548 ms, sys: 0 ns, total: 548 ms\n",
            "Wall time: 1.01 s\n"
          ]
        }
      ]
    },
    {
      "cell_type": "markdown",
      "source": [
        "#Tercer caso 11 nodos"
      ],
      "metadata": {
        "id": "ex5IXMf-Oip8"
      }
    },
    {
      "cell_type": "code",
      "source": [
        "matrices[1]"
      ],
      "metadata": {
        "colab": {
          "base_uri": "https://localhost:8080/"
        },
        "id": "A5P53qckPNKY",
        "outputId": "2519d1df-a6f9-4bc8-b56f-6304cba32ea8"
      },
      "execution_count": 6,
      "outputs": [
        {
          "output_type": "execute_result",
          "data": {
            "text/plain": [
              "[[0, 139, 392, 812, 880, 247, 573, 478, 787, 815, 911],\n",
              " [198, 0, 564, 713, 610, 723, 119, 626, 542, 690, 481],\n",
              " [739, 972, 0, 660, 873, 544, 503, 280, 159, 971, 209],\n",
              " [939, 227, 484, 0, 257, 198, 264, 624, 954, 607, 231],\n",
              " [890, 496, 711, 618, 0, 378, 688, 286, 485, 165, 150],\n",
              " [693, 162, 291, 162, 959, 0, 269, 403, 381, 178, 634],\n",
              " [738, 205, 976, 933, 698, 769, 0, 765, 795, 162, 196],\n",
              " [965, 737, 568, 905, 762, 840, 439, 0, 438, 641, 780],\n",
              " [817, 549, 270, 229, 968, 182, 899, 427, 0, 151, 997],\n",
              " [705, 374, 476, 845, 290, 788, 718, 172, 665, 0, 778],\n",
              " [216, 404, 606, 897, 846, 470, 832, 544, 142, 584, 0]]"
            ]
          },
          "metadata": {},
          "execution_count": 6
        }
      ]
    },
    {
      "cell_type": "code",
      "source": [
        "%%time\n",
        "print('RAM usage:', psutil.Process().memory_info().rss / 1024 ** 2, 'MB')\n",
        "\n",
        "def create_data_model():\n",
        "    \"\"\"Stores the data for the problem.\"\"\"\n",
        "    data = {}\n",
        "    data[\"distance_matrix\"]= [\n",
        "        [0, 139, 392, 812, 880, 247, 573, 478, 787, 815, 911],\n",
        "        [198, 0, 564, 713, 610, 723, 119, 626, 542, 690, 481],\n",
        "        [739, 972, 0, 660, 873, 544, 503, 280, 159, 971, 209],\n",
        "        [939, 227, 484, 0, 257, 198, 264, 624, 954, 607, 231],\n",
        "        [890, 496, 711, 618, 0, 378, 688, 286, 485, 165, 150],\n",
        "        [693, 162, 291, 162, 959, 0, 269, 403, 381, 178, 634],\n",
        "        [738, 205, 976, 933, 698, 769, 0, 765, 795, 162, 196],\n",
        "        [965, 737, 568, 905, 762, 840, 439, 0, 438, 641, 780],\n",
        "        [817, 549, 270, 229, 968, 182, 899, 427, 0, 151, 997],\n",
        "        [705, 374, 476, 845, 290, 788, 718, 172, 665, 0, 778],\n",
        "        [216, 404, 606, 897, 846, 470, 832, 544, 142, 584, 0],\n",
        "        ]\n",
        "\n",
        "    data[\"demands\"] = [0,79,65,62,35,14,77,74,75,93,25]\n",
        "    data[\"vehicle_capacities\"] = [100,100,100,100,100,100,100]\n",
        "    data[\"num_vehicles\"] = 7\n",
        "    data[\"depot\"] = 0\n",
        "    return data\n",
        "\n",
        "if __name__ == \"__main__\":\n",
        "    main()"
      ],
      "metadata": {
        "colab": {
          "base_uri": "https://localhost:8080/"
        },
        "id": "UvIEKIAZJVQY",
        "outputId": "65723141-1113-4695-c821-2e258f179dbd"
      },
      "execution_count": 12,
      "outputs": [
        {
          "output_type": "stream",
          "name": "stdout",
          "text": [
            "RAM usage: 149.41796875 MB\n",
            "SOLUTION FOUND...\n",
            "\n",
            "\n",
            "\n",
            "Route for vehicle 0:\n",
            " 0 Remaining(0) ->  9 Remaining(93) ->  0 Remaining(93)\n",
            "Time of the route: 1520 minutes\n",
            "Load of the route: 0.93\n",
            "\n",
            "Route for vehicle 1:\n",
            " 0 Remaining(0) ->  3 Remaining(62) ->  4 Remaining(97) ->  0 Remaining(97)\n",
            "Time of the route: 1959 minutes\n",
            "Load of the route: 0.97\n",
            "\n",
            "Route for vehicle 2:\n",
            " 0 Remaining(0) ->  5 Remaining(14) ->  8 Remaining(89) ->  0 Remaining(89)\n",
            "Time of the route: 1445 minutes\n",
            "Load of the route: 0.89\n",
            "\n",
            "Route for vehicle 3:\n",
            " 0 Remaining(0) ->  6 Remaining(77) ->  0 Remaining(77)\n",
            "Time of the route: 1311 minutes\n",
            "Load of the route: 0.77\n",
            "\n",
            "Route for vehicle 4:\n",
            " 0 Remaining(0) ->  7 Remaining(74) ->  0 Remaining(74)\n",
            "Time of the route: 1443 minutes\n",
            "Load of the route: 0.74\n",
            "\n",
            "Route for vehicle 5:\n",
            " 0 Remaining(0) ->  2 Remaining(65) ->  10 Remaining(90) ->  0 Remaining(90)\n",
            "Time of the route: 817 minutes\n",
            "Load of the route: 0.9\n",
            "\n",
            "Route for vehicle 6:\n",
            " 0 Remaining(0) ->  1 Remaining(79) ->  0 Remaining(79)\n",
            "Time of the route: 337 minutes\n",
            "Load of the route: 0.79\n",
            "\n",
            "Objective: 9011.7 minutes in total.\n",
            "Total time of all routes: 8832 minutes\n",
            "Total load of all routes: 5.99\n",
            "Total time spent loading and unloading: 179.70000000000002 minutes\n",
            "CPU times: user 1 s, sys: 0 ns, total: 1 s\n",
            "Wall time: 1.01 s\n"
          ]
        }
      ]
    },
    {
      "cell_type": "markdown",
      "source": [
        "#Cuarto caso 11 nodos"
      ],
      "metadata": {
        "id": "1_WLHq5AeeDR"
      }
    },
    {
      "cell_type": "code",
      "source": [
        "matrices[2]"
      ],
      "metadata": {
        "colab": {
          "base_uri": "https://localhost:8080/"
        },
        "id": "4X92xTN2ehhJ",
        "outputId": "b3db5eec-0bc7-4856-a470-635093ea0b1f"
      },
      "execution_count": 8,
      "outputs": [
        {
          "output_type": "execute_result",
          "data": {
            "text/plain": [
              "[[0, 518, 632, 654, 818, 982, 219, 280, 488, 330, 396],\n",
              " [129, 0, 330, 219, 682, 109, 202, 260, 893, 626, 805],\n",
              " [410, 810, 0, 749, 487, 705, 514, 884, 807, 786, 433],\n",
              " [466, 175, 446, 0, 961, 389, 732, 262, 214, 623, 171],\n",
              " [702, 196, 376, 422, 0, 210, 740, 941, 396, 135, 452],\n",
              " [495, 198, 588, 587, 295, 0, 293, 233, 364, 865, 353],\n",
              " [895, 150, 144, 789, 936, 796, 0, 546, 826, 138, 856],\n",
              " [830, 811, 854, 964, 769, 930, 436, 0, 478, 950, 582],\n",
              " [745, 564, 704, 921, 653, 254, 338, 595, 0, 566, 913],\n",
              " [854, 800, 454, 731, 939, 959, 855, 144, 384, 0, 261],\n",
              " [109, 328, 114, 693, 871, 718, 762, 669, 656, 388, 0]]"
            ]
          },
          "metadata": {},
          "execution_count": 8
        }
      ]
    },
    {
      "cell_type": "code",
      "source": [
        "%%time\n",
        "print('RAM usage:', psutil.Process().memory_info().rss / 1024 ** 2, 'MB')\n",
        "\n",
        "def create_data_model():\n",
        "    \"\"\"Stores the data for the problem.\"\"\"\n",
        "    data = {}\n",
        "    data[\"distance_matrix\"]= [\n",
        "        [0, 518, 632, 654, 818, 982, 219, 280, 488, 330, 396],\n",
        "        [129, 0, 330, 219, 682, 109, 202, 260, 893, 626, 805],\n",
        "        [410, 810, 0, 749, 487, 705, 514, 884, 807, 786, 433],\n",
        "        [466, 175, 446, 0, 961, 389, 732, 262, 214, 623, 171],\n",
        "        [702, 196, 376, 422, 0, 210, 740, 941, 396, 135, 452],\n",
        "        [495, 198, 588, 587, 295, 0, 293, 233, 364, 865, 353],\n",
        "        [895, 150, 144, 789, 936, 796, 0, 546, 826, 138, 856],\n",
        "        [830, 811, 854, 964, 769, 930, 436, 0, 478, 950, 582],\n",
        "        [745, 564, 704, 921, 653, 254, 338, 595, 0, 566, 913],\n",
        "        [854, 800, 454, 731, 939, 959, 855, 144, 384, 0, 261],\n",
        "        [109, 328, 114, 693, 871, 718, 762, 669, 656, 388, 0],\n",
        "        ]\n",
        "\n",
        "    data[\"demands\"] = [0,55,54,71,66,19,37,25,35,86,32]\n",
        "    data[\"vehicle_capacities\"] = [100,100,100,100,100,100]\n",
        "    data[\"num_vehicles\"] = 6\n",
        "    data[\"depot\"] = 0\n",
        "    return data\n",
        "\n",
        "if __name__ == \"__main__\":\n",
        "    main()"
      ],
      "metadata": {
        "colab": {
          "base_uri": "https://localhost:8080/"
        },
        "id": "PdoZZER7Um0d",
        "outputId": "104e5240-37b4-4b54-a223-232a3ade417f"
      },
      "execution_count": 13,
      "outputs": [
        {
          "output_type": "stream",
          "name": "stdout",
          "text": [
            "RAM usage: 149.41796875 MB\n",
            "SOLUTION FOUND...\n",
            "\n",
            "\n",
            "\n",
            "Route for vehicle 0:\n",
            " 0 Remaining(0) ->  4 Remaining(66) ->  10 Remaining(98) ->  0 Remaining(98)\n",
            "Time of the route: 1379 minutes\n",
            "Load of the route: 0.98\n",
            "\n",
            "Route for vehicle 1:\n",
            " 0 Remaining(0) ->  3 Remaining(71) ->  0 Remaining(71)\n",
            "Time of the route: 1120 minutes\n",
            "Load of the route: 0.71\n",
            "\n",
            "Route for vehicle 2:\n",
            " 0 Remaining(0) ->  1 Remaining(55) ->  0 Remaining(55)\n",
            "Time of the route: 647 minutes\n",
            "Load of the route: 0.55\n",
            "\n",
            "Route for vehicle 3:\n",
            " 0 Remaining(0) ->  9 Remaining(86) ->  0 Remaining(86)\n",
            "Time of the route: 1184 minutes\n",
            "Load of the route: 0.86\n",
            "\n",
            "Route for vehicle 4:\n",
            " 0 Remaining(0) ->  7 Remaining(25) ->  8 Remaining(60) ->  5 Remaining(79) ->  0 Remaining(79)\n",
            "Time of the route: 1507 minutes\n",
            "Load of the route: 0.79\n",
            "\n",
            "Route for vehicle 5:\n",
            " 0 Remaining(0) ->  6 Remaining(37) ->  2 Remaining(91) ->  0 Remaining(91)\n",
            "Time of the route: 773 minutes\n",
            "Load of the route: 0.91\n",
            "\n",
            "Objective: 6754.0 minutes in total.\n",
            "Total time of all routes: 6610 minutes\n",
            "Total load of all routes: 4.8\n",
            "Total time spent loading and unloading: 144.0 minutes\n",
            "CPU times: user 1.01 s, sys: 676 µs, total: 1.01 s\n",
            "Wall time: 1.01 s\n"
          ]
        }
      ]
    },
    {
      "cell_type": "markdown",
      "source": [
        "#Quinto caso 11 nodos"
      ],
      "metadata": {
        "id": "G2sE2YAVfYxr"
      }
    },
    {
      "cell_type": "code",
      "source": [
        "matrices[3]"
      ],
      "metadata": {
        "colab": {
          "base_uri": "https://localhost:8080/"
        },
        "id": "yd2k0SQifYZe",
        "outputId": "8fde26cb-ea23-4330-f7f0-043b9044d01d"
      },
      "execution_count": 10,
      "outputs": [
        {
          "output_type": "execute_result",
          "data": {
            "text/plain": [
              "[[0, 378, 527, 599, 363, 183, 410, 446, 122, 174, 595],\n",
              " [111, 0, 217, 390, 927, 220, 418, 975, 861, 764, 136],\n",
              " [739, 168, 0, 238, 378, 914, 854, 257, 316, 968, 878],\n",
              " [834, 538, 176, 0, 727, 517, 246, 817, 158, 132, 276],\n",
              " [428, 357, 465, 893, 0, 842, 427, 196, 521, 191, 121],\n",
              " [869, 436, 424, 902, 496, 0, 815, 997, 863, 643, 776],\n",
              " [649, 988, 747, 849, 735, 929, 0, 819, 758, 360, 707],\n",
              " [779, 161, 604, 482, 314, 459, 259, 0, 741, 907, 117],\n",
              " [355, 611, 828, 738, 534, 400, 314, 524, 0, 494, 955],\n",
              " [489, 246, 698, 566, 667, 188, 673, 493, 163, 0, 627],\n",
              " [727, 129, 739, 979, 656, 774, 745, 633, 890, 395, 0]]"
            ]
          },
          "metadata": {},
          "execution_count": 10
        }
      ]
    },
    {
      "cell_type": "code",
      "source": [
        "%%time\n",
        "print('RAM usage:', psutil.Process().memory_info().rss / 1024 ** 2, 'MB')\n",
        "\n",
        "def create_data_model():\n",
        "    \"\"\"Stores the data for the problem.\"\"\"\n",
        "    data = {}\n",
        "    data[\"distance_matrix\"]= [\n",
        "        [0, 378, 527, 599, 363, 183, 410, 446, 122, 174, 595],\n",
        "        [111, 0, 217, 390, 927, 220, 418, 975, 861, 764, 136],\n",
        "        [739, 168, 0, 238, 378, 914, 854, 257, 316, 968, 878],\n",
        "        [834, 538, 176, 0, 727, 517, 246, 817, 158, 132, 276],\n",
        "        [428, 357, 465, 893, 0, 842, 427, 196, 521, 191, 121],\n",
        "        [869, 436, 424, 902, 496, 0, 815, 997, 863, 643, 776],\n",
        "        [649, 988, 747, 849, 735, 929, 0, 819, 758, 360, 707],\n",
        "        [779, 161, 604, 482, 314, 459, 259, 0, 741, 907, 117],\n",
        "        [355, 611, 828, 738, 534, 400, 314, 524, 0, 494, 955],\n",
        "        [489, 246, 698, 566, 667, 188, 673, 493, 163, 0, 627],\n",
        "        [727, 129, 739, 979, 656, 774, 745, 633, 890, 395, 0],\n",
        "        ]\n",
        "\n",
        "    data[\"demands\"] = [0,85,12,46,13,6,83,6,70,69,25]\n",
        "    data[\"vehicle_capacities\"] = [100,100,100,100,100]\n",
        "    data[\"num_vehicles\"] = 5\n",
        "    data[\"depot\"] = 0\n",
        "    return data\n",
        "\n",
        "if __name__ == \"__main__\":\n",
        "    main()"
      ],
      "metadata": {
        "colab": {
          "base_uri": "https://localhost:8080/"
        },
        "id": "oC9WnWVxfc2c",
        "outputId": "70a7b850-bc8b-4a1b-d580-a2851e49f209"
      },
      "execution_count": 14,
      "outputs": [
        {
          "output_type": "stream",
          "name": "stdout",
          "text": [
            "RAM usage: 149.671875 MB\n",
            "SOLUTION FOUND...\n",
            "\n",
            "\n",
            "\n",
            "Route for vehicle 0:\n",
            " 0 Remaining(0) ->  5 Remaining(6) ->  2 Remaining(18) ->  3 Remaining(64) ->  10 Remaining(89) ->  0 Remaining(89)\n",
            "Time of the route: 1848 minutes\n",
            "Load of the route: 0.89\n",
            "\n",
            "Route for vehicle 1:\n",
            " 0 Remaining(0) ->  4 Remaining(13) ->  6 Remaining(96) ->  0 Remaining(96)\n",
            "Time of the route: 1439 minutes\n",
            "Load of the route: 0.96\n",
            "\n",
            "Route for vehicle 2:\n",
            " 0 Remaining(0) ->  7 Remaining(6) ->  1 Remaining(91) ->  0 Remaining(91)\n",
            "Time of the route: 718 minutes\n",
            "Load of the route: 0.91\n",
            "\n",
            "Route for vehicle 3:\n",
            " 0 Remaining(0) ->  9 Remaining(69) ->  0 Remaining(69)\n",
            "Time of the route: 663 minutes\n",
            "Load of the route: 0.69\n",
            "\n",
            "Route for vehicle 4:\n",
            " 0 Remaining(0) ->  8 Remaining(70) ->  0 Remaining(70)\n",
            "Time of the route: 477 minutes\n",
            "Load of the route: 0.7\n",
            "\n",
            "Objective: 5269.5 minutes in total.\n",
            "Total time of all routes: 5145 minutes\n",
            "Total load of all routes: 4.15\n",
            "Total time spent loading and unloading: 124.50000000000001 minutes\n",
            "CPU times: user 888 ms, sys: 31 µs, total: 888 ms\n",
            "Wall time: 1.01 s\n"
          ]
        }
      ]
    },
    {
      "cell_type": "code",
      "source": [],
      "metadata": {
        "id": "I_m54WaYQ1wu"
      },
      "execution_count": null,
      "outputs": []
    }
  ]
}